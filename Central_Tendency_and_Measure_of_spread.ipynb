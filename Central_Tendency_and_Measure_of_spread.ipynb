{
 "cells": [
  {
   "cell_type": "code",
   "execution_count": 2,
   "metadata": {},
   "outputs": [],
   "source": [
    "import numpy as np\n",
    "import matplotlib.pyplot as plt\n",
    "%matplotlib inline\n"
   ]
  },
  {
   "cell_type": "markdown",
   "metadata": {},
   "source": [
    "# central  tendency"
   ]
  },
  {
   "cell_type": "markdown",
   "metadata": {},
   "source": [
    "mean\n",
    "median\n",
    "mode"
   ]
  },
  {
   "cell_type": "code",
   "execution_count": 5,
   "metadata": {},
   "outputs": [
    {
     "name": "stdout",
     "output_type": "stream",
     "text": [
      "[8 9 9 7 7 8 8 8 7 9 8 8 7 7 7 8 8 8 8 9]\n"
     ]
    }
   ],
   "source": [
    "m = np.random.randint(7,10,20)   # it create a random no. list between 7 and 10 . total no. of item in list is 20.\n",
    "print(m)"
   ]
  },
  {
   "cell_type": "markdown",
   "metadata": {},
   "source": [
    "### Mean"
   ]
  },
  {
   "cell_type": "markdown",
   "metadata": {},
   "source": [
    "Mean is the sum of the value of each observation in a dataset divided by the number of observation.$$ mean = sum of elements/no of elments$$\n"
   ]
  },
  {
   "cell_type": "raw",
   "metadata": {},
   "source": [
    "from IPython.display import Image\n",
    "Image(filename = 'D:/mean.png')   # give the path of the image."
   ]
  },
  {
   "cell_type": "code",
   "execution_count": 6,
   "metadata": {},
   "outputs": [
    {
     "data": {
      "text/plain": [
       "7.9"
      ]
     },
     "execution_count": 6,
     "metadata": {},
     "output_type": "execute_result"
    }
   ],
   "source": [
    " np.mean(m)   # it calculate the mean of list m"
   ]
  },
  {
   "cell_type": "markdown",
   "metadata": {},
   "source": [
    "### Median\n"
   ]
  },
  {
   "cell_type": "markdown",
   "metadata": {},
   "source": [
    "Meadian is the middle value in distribution when the value are arranged in ascending order or decending order.\n",
    "        (n/2)th observation when list is odd\n",
    "        ((n+1)/2)th observation when list is even"
   ]
  },
  {
   "cell_type": "code",
   "execution_count": 7,
   "metadata": {},
   "outputs": [
    {
     "data": {
      "text/plain": [
       "array([7, 7, 7, 7, 7, 7, 8, 8, 8, 8, 8, 8, 8, 8, 8, 8, 9, 9, 9, 9])"
      ]
     },
     "execution_count": 7,
     "metadata": {},
     "output_type": "execute_result"
    }
   ],
   "source": [
    "m.sort()\n",
    "m"
   ]
  },
  {
   "cell_type": "code",
   "execution_count": 8,
   "metadata": {},
   "outputs": [
    {
     "data": {
      "text/plain": [
       "8.0"
      ]
     },
     "execution_count": 8,
     "metadata": {},
     "output_type": "execute_result"
    }
   ],
   "source": [
    "np.median(m)  # it calculates the median of list m."
   ]
  },
  {
   "cell_type": "markdown",
   "metadata": {},
   "source": [
    "### Mode"
   ]
  },
  {
   "cell_type": "markdown",
   "metadata": {},
   "source": [
    "Mode is the most commonly occuring value in a distribution."
   ]
  },
  {
   "cell_type": "code",
   "execution_count": 9,
   "metadata": {},
   "outputs": [
    {
     "data": {
      "text/plain": [
       "8"
      ]
     },
     "execution_count": 9,
     "metadata": {},
     "output_type": "execute_result"
    }
   ],
   "source": [
    "from statistics import mode\n",
    "\n",
    "mode(m)       # it calculate the mode of list m."
   ]
  },
  {
   "cell_type": "markdown",
   "metadata": {},
   "source": [
    "## Poplation and Sample"
   ]
  },
  {
   "cell_type": "markdown",
   "metadata": {},
   "source": [
    "### Population"
   ]
  },
  {
   "cell_type": "code",
   "execution_count": 10,
   "metadata": {},
   "outputs": [
    {
     "data": {
      "text/plain": [
       "array([17, 12, 16, 13, 12, 19, 15, 19, 10, 13, 19, 11, 13, 13, 12, 12, 17,\n",
       "       11, 11, 19, 15, 13, 19, 16, 16, 14, 19, 15, 13, 15, 19, 14, 19, 11,\n",
       "       17, 19, 12, 11, 18, 13, 12, 16, 14, 12, 17, 12, 18, 12, 12, 10, 16,\n",
       "       13, 15, 16, 17, 17, 14, 19, 14, 11, 13, 15, 17, 13, 13, 10, 11, 11,\n",
       "       14, 16, 14, 13, 16, 16, 18, 17, 17, 17, 12, 13, 12, 16, 11, 10, 14,\n",
       "       11, 12, 11, 14, 15, 14, 17, 11, 16, 14, 16, 15, 19, 12, 18])"
      ]
     },
     "execution_count": 10,
     "metadata": {},
     "output_type": "execute_result"
    }
   ],
   "source": [
    "population = np.random.randint(10,20,100)\n",
    "population"
   ]
  },
  {
   "cell_type": "code",
   "execution_count": 11,
   "metadata": {},
   "outputs": [
    {
     "data": {
      "text/plain": [
       "14.43"
      ]
     },
     "execution_count": 11,
     "metadata": {},
     "output_type": "execute_result"
    }
   ],
   "source": [
    "np.mean(population)"
   ]
  },
  {
   "cell_type": "code",
   "execution_count": 12,
   "metadata": {},
   "outputs": [
    {
     "data": {
      "text/plain": [
       "14.0"
      ]
     },
     "execution_count": 12,
     "metadata": {},
     "output_type": "execute_result"
    }
   ],
   "source": [
    "np.median(population)"
   ]
  },
  {
   "cell_type": "code",
   "execution_count": 13,
   "metadata": {},
   "outputs": [
    {
     "data": {
      "text/plain": [
       "12"
      ]
     },
     "execution_count": 13,
     "metadata": {},
     "output_type": "execute_result"
    }
   ],
   "source": [
    "from statistics import mode\n",
    "\n",
    "mode(population)"
   ]
  },
  {
   "cell_type": "markdown",
   "metadata": {},
   "source": [
    "### Sample"
   ]
  },
  {
   "cell_type": "markdown",
   "metadata": {},
   "source": [
    "sample is the subset of population\n"
   ]
  },
  {
   "cell_type": "code",
   "execution_count": 14,
   "metadata": {},
   "outputs": [
    {
     "data": {
      "text/plain": [
       "array([14, 17, 11, 13, 11, 17, 11, 16, 14, 12, 11, 16, 12, 12, 14, 15, 11,\n",
       "       11, 17, 19])"
      ]
     },
     "execution_count": 14,
     "metadata": {},
     "output_type": "execute_result"
    }
   ],
   "source": [
    "sample = np.random.choice(population,20)\n",
    "sample"
   ]
  },
  {
   "cell_type": "code",
   "execution_count": 15,
   "metadata": {},
   "outputs": [
    {
     "data": {
      "text/plain": [
       "13.7"
      ]
     },
     "execution_count": 15,
     "metadata": {},
     "output_type": "execute_result"
    }
   ],
   "source": [
    "np.mean(sample)"
   ]
  },
  {
   "cell_type": "code",
   "execution_count": 16,
   "metadata": {},
   "outputs": [
    {
     "data": {
      "text/plain": [
       "13.5"
      ]
     },
     "execution_count": 16,
     "metadata": {},
     "output_type": "execute_result"
    }
   ],
   "source": [
    "np.median(sample)"
   ]
  },
  {
   "cell_type": "code",
   "execution_count": 17,
   "metadata": {},
   "outputs": [
    {
     "data": {
      "text/plain": [
       "11"
      ]
     },
     "execution_count": 17,
     "metadata": {},
     "output_type": "execute_result"
    }
   ],
   "source": [
    "mode(sample)"
   ]
  },
  {
   "cell_type": "code",
   "execution_count": 18,
   "metadata": {},
   "outputs": [],
   "source": [
    "sample_1 = np.random.choice(population, 15)\n",
    "sample_2 = np.random.choice(population, 15)\n",
    "sample_3 = np.random.choice(population, 15)\n",
    "sample_4 = np.random.choice(population, 15)"
   ]
  },
  {
   "cell_type": "code",
   "execution_count": 19,
   "metadata": {},
   "outputs": [
    {
     "data": {
      "text/plain": [
       "[13.7, 14.133333333333333, 14.133333333333333, 15.333333333333334, 13.6]"
      ]
     },
     "execution_count": 19,
     "metadata": {},
     "output_type": "execute_result"
    }
   ],
   "source": [
    "all_sample = [sample,sample_1,sample_2,sample_3,sample_4]\n",
    "sample_mean = []\n",
    "\n",
    "for i in all_sample:\n",
    "    sample_mean.append(np.mean(i))\n",
    "    \n",
    "sample_mean"
   ]
  },
  {
   "cell_type": "code",
   "execution_count": 20,
   "metadata": {},
   "outputs": [
    {
     "data": {
      "text/plain": [
       "14.180000000000001"
      ]
     },
     "execution_count": 20,
     "metadata": {},
     "output_type": "execute_result"
    }
   ],
   "source": [
    "np.mean(sample_mean)"
   ]
  },
  {
   "cell_type": "code",
   "execution_count": 21,
   "metadata": {},
   "outputs": [
    {
     "data": {
      "text/plain": [
       "14.43"
      ]
     },
     "execution_count": 21,
     "metadata": {},
     "output_type": "execute_result"
    }
   ],
   "source": [
    "np.mean(population)"
   ]
  },
  {
   "cell_type": "markdown",
   "metadata": {},
   "source": [
    "## Measure of Spread"
   ]
  },
  {
   "cell_type": "markdown",
   "metadata": {},
   "source": [
    "Measure of spread has four categories which are following.\n",
    "* Range\n",
    "* Quartile\n",
    "* Variance\n",
    "* Standard Deviation"
   ]
  },
  {
   "cell_type": "markdown",
   "metadata": {},
   "source": [
    "### Range"
   ]
  },
  {
   "cell_type": "markdown",
   "metadata": {},
   "source": [
    " Range give us how well data spread out.\n",
    " To calculate this we get a highest value in the dataset and the lowest value in the dataset and find the differene between them."
   ]
  },
  {
   "cell_type": "code",
   "execution_count": 23,
   "metadata": {},
   "outputs": [
    {
     "data": {
      "text/plain": [
       "array([ 0.73358428,  0.11812994, -1.0566796 , -0.26148857,  1.71243772,\n",
       "        1.42311983, -0.66884779,  0.89434795, -0.44223951,  0.36674241,\n",
       "        1.68465753,  0.80875254,  0.60803159,  0.01598236,  0.05840569,\n",
       "       -0.07869085, -0.80947434,  0.15604329,  0.63549677,  1.91896348,\n",
       "       -0.66505183, -1.21416952, -1.20146452, -0.23612922,  2.33424794,\n",
       "       -1.12299861, -0.4991103 ,  0.70883274,  2.17986222,  1.03521253])"
      ]
     },
     "execution_count": 23,
     "metadata": {},
     "output_type": "execute_result"
    }
   ],
   "source": [
    "n = np.random.randn(30)\n",
    "n"
   ]
  },
  {
   "cell_type": "code",
   "execution_count": 24,
   "metadata": {},
   "outputs": [
    {
     "data": {
      "text/plain": [
       "3.5484174621798754"
      ]
     },
     "execution_count": 24,
     "metadata": {},
     "output_type": "execute_result"
    }
   ],
   "source": [
    "np.max(n) - np.min(n)  # it gives the range of dataset n."
   ]
  },
  {
   "cell_type": "markdown",
   "metadata": {},
   "source": [
    "### Quartile"
   ]
  },
  {
   "cell_type": "markdown",
   "metadata": {},
   "source": [
    "Quartile divide a rank-ordered data set into four equal parts."
   ]
  },
  {
   "cell_type": "code",
   "execution_count": 26,
   "metadata": {},
   "outputs": [],
   "source": [
    "# First Quartile\n",
    "Q1 = np.percentile(n,25)"
   ]
  },
  {
   "cell_type": "code",
   "execution_count": 27,
   "metadata": {},
   "outputs": [],
   "source": [
    "# Second Quartile\n",
    "Q2 = np.percentile(n,50)"
   ]
  },
  {
   "cell_type": "code",
   "execution_count": 28,
   "metadata": {},
   "outputs": [],
   "source": [
    "# Third Quartile\n",
    "Q3 = np.percentile(n,75)"
   ]
  },
  {
   "cell_type": "markdown",
   "metadata": {},
   "source": [
    "#### Interquartile range"
   ]
  },
  {
   "cell_type": "markdown",
   "metadata": {},
   "source": [
    "IQP = Third Quaritle - First Quartile"
   ]
  },
  {
   "cell_type": "code",
   "execution_count": 30,
   "metadata": {},
   "outputs": [
    {
     "data": {
      "text/plain": [
       "1.3578417014040207"
      ]
     },
     "execution_count": 30,
     "metadata": {},
     "output_type": "execute_result"
    }
   ],
   "source": [
    "IQR = Q3 - Q1\n",
    "IQR"
   ]
  },
  {
   "cell_type": "markdown",
   "metadata": {},
   "source": [
    "## Variance"
   ]
  },
  {
   "cell_type": "markdown",
   "metadata": {},
   "source": [
    "  It tells how Spread out (far away) a number is from the mean"
   ]
  },
  {
   "cell_type": "code",
   "execution_count": 31,
   "metadata": {},
   "outputs": [
    {
     "data": {
      "text/plain": [
       "array([ 2.15335333, -1.12096837, -0.29621031, -0.34139842,  0.71350653,\n",
       "        1.51962414, -0.39621234, -0.88244104,  0.597117  , -0.02608413,\n",
       "        0.82408154,  1.28623879, -1.28250367,  2.03073088, -2.84863031,\n",
       "       -0.02618878,  0.90062568,  0.23278286, -0.73287521,  0.56819489,\n",
       "       -0.51111688, -0.5100441 , -0.57613013,  1.71091833, -1.16302846,\n",
       "       -2.15346842,  1.45041695,  0.949254  , -1.06745212,  0.50192048,\n",
       "       -0.97515274, -0.2382164 , -0.6132923 ,  1.30111156, -0.82010445,\n",
       "        0.58189313,  0.64595441,  2.44085814, -0.48252653, -0.84608929,\n",
       "       -0.2475148 , -1.33517857, -0.46456983,  1.46366633, -0.59523732,\n",
       "       -0.41498262, -0.26471548, -0.22456379,  0.76409913,  0.52143682,\n",
       "       -0.39113302,  1.18508288, -0.00680177,  0.28320049, -0.14813806,\n",
       "        0.11262425,  0.91600759, -1.29554018,  0.82953396, -1.98737565,\n",
       "       -0.29872556,  0.50371121,  0.87963704,  0.02892701, -0.91914536,\n",
       "       -0.41405524, -1.30139939, -0.01229968,  0.37634098,  0.89010973,\n",
       "        1.21799971,  0.37648695,  0.28414868,  0.31708284,  1.2925004 ,\n",
       "       -0.7659446 ,  1.89213596, -0.22510247, -0.29856616,  1.55981564,\n",
       "        0.42278424, -1.24184595, -0.26636199, -0.51243869,  0.01373887,\n",
       "       -0.45447009, -0.96618292,  0.71328712, -0.44987843, -0.04306759,\n",
       "       -1.24606852,  0.64114205,  0.39395984, -0.35261739,  0.54966927,\n",
       "       -0.20024316, -0.36524867,  0.22072609, -1.43828045, -1.11930842])"
      ]
     },
     "execution_count": 31,
     "metadata": {},
     "output_type": "execute_result"
    }
   ],
   "source": [
    "population = np.random.randn(100)\n",
    "\n",
    "population"
   ]
  },
  {
   "cell_type": "code",
   "execution_count": 33,
   "metadata": {},
   "outputs": [
    {
     "data": {
      "text/plain": [
       "array([ 0.56819489,  0.39395984,  0.01373887,  0.52143682, -0.26471548,\n",
       "       -2.15346842,  0.50371121,  0.82953396, -1.98737565,  0.597117  ,\n",
       "       -1.43828045, -0.39621234, -0.5100441 ,  0.56819489,  1.46366633,\n",
       "       -1.12096837,  0.02892701, -0.26471548,  0.28414868,  0.01373887,\n",
       "        1.71091833, -1.33517857,  0.50371121,  0.50371121, -0.2475148 ,\n",
       "       -1.12096837, -1.11930842, -0.04306759,  0.90062568,  0.87963704])"
      ]
     },
     "execution_count": 33,
     "metadata": {},
     "output_type": "execute_result"
    }
   ],
   "source": [
    "sample = np.random.choice(population,30)\n",
    "sample"
   ]
  },
  {
   "cell_type": "code",
   "execution_count": 34,
   "metadata": {},
   "outputs": [
    {
     "data": {
      "text/plain": [
       "0.9323020594919019"
      ]
     },
     "execution_count": 34,
     "metadata": {},
     "output_type": "execute_result"
    }
   ],
   "source": [
    "np.var(population)   # it calculate the variance of population"
   ]
  },
  {
   "cell_type": "code",
   "execution_count": 35,
   "metadata": {},
   "outputs": [
    {
     "data": {
      "text/plain": [
       "0.8780540523744494"
      ]
     },
     "execution_count": 35,
     "metadata": {},
     "output_type": "execute_result"
    }
   ],
   "source": [
    "np.var(sample)  # if calculate the variance of sample"
   ]
  },
  {
   "cell_type": "markdown",
   "metadata": {},
   "source": [
    "## Standard Deviation"
   ]
  },
  {
   "cell_type": "markdown",
   "metadata": {},
   "source": [
    "The Square root of the variance is the Standard Deviation.While variance gives you a rough idea of spread. The standard deviation  is more concrete , gives you exact distances from the mean"
   ]
  },
  {
   "cell_type": "code",
   "execution_count": 36,
   "metadata": {},
   "outputs": [
    {
     "data": {
      "text/plain": [
       "0.9655579006418528"
      ]
     },
     "execution_count": 36,
     "metadata": {},
     "output_type": "execute_result"
    }
   ],
   "source": [
    "np.std(population)   # it gives the standard deviation for population"
   ]
  },
  {
   "cell_type": "code",
   "execution_count": 37,
   "metadata": {},
   "outputs": [
    {
     "data": {
      "text/plain": [
       "0.9370453843728432"
      ]
     },
     "execution_count": 37,
     "metadata": {},
     "output_type": "execute_result"
    }
   ],
   "source": [
    "np.std(sample)    # it gives the standard deviation for sample"
   ]
  },
  {
   "cell_type": "code",
   "execution_count": null,
   "metadata": {},
   "outputs": [],
   "source": []
  }
 ],
 "metadata": {
  "kernelspec": {
   "display_name": "Python 3",
   "language": "python",
   "name": "python3"
  },
  "language_info": {
   "codemirror_mode": {
    "name": "ipython",
    "version": 3
   },
   "file_extension": ".py",
   "mimetype": "text/x-python",
   "name": "python",
   "nbconvert_exporter": "python",
   "pygments_lexer": "ipython3",
   "version": "3.7.4"
  }
 },
 "nbformat": 4,
 "nbformat_minor": 2
}
